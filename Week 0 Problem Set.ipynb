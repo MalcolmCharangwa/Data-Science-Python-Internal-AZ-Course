{
 "cells": [
  {
   "cell_type": "code",
   "execution_count": null,
   "id": "e4922695-a5cc-4ef2-b998-b83413961a17",
   "metadata": {},
   "outputs": [],
   "source": [
    "import pandas as pd"
   ]
  },
  {
   "cell_type": "code",
   "execution_count": null,
   "id": "c1768a8a-636f-43a1-9cc0-bf5ed74b47b6",
   "metadata": {},
   "outputs": [],
   "source": [
    "metabricdata = pd.read_csv('/home/kdmb535/Data Science AZ Python Course/Data/metabric_clinical_and_expression_data.csv')\n",
    "#display(metabricdata)"
   ]
  },
  {
   "cell_type": "code",
   "execution_count": 6,
   "id": "7014cf24-a177-4e42-98e3-1ee14e89475c",
   "metadata": {},
   "outputs": [
    {
     "name": "stdout",
     "output_type": "stream",
     "text": [
      "0       MB-0000\n",
      "1       MB-0002\n",
      "2       MB-0005\n",
      "3       MB-0006\n",
      "4       MB-0008\n",
      "         ...   \n",
      "1899    MB-7295\n",
      "1900    MB-7296\n",
      "1901    MB-7297\n",
      "1902    MB-7298\n",
      "1903    MB-7299\n",
      "Name: Patient_ID, Length: 1904, dtype: object\n"
     ]
    }
   ],
   "source": [
    "print(metabricdata['Patient_ID'])\n",
    "uniquepatientnum = len(metabricdata['Patient_ID'])"
   ]
  },
  {
   "cell_type": "markdown",
   "id": "b222017c-e31c-4965-b82a-c8a3e0e0483e",
   "metadata": {},
   "source": [
    "1) For how many unique patients we have data available?"
   ]
  },
  {
   "cell_type": "code",
   "execution_count": 7,
   "id": "1d128ea2-77ff-44b0-b9cd-7beceaec211a",
   "metadata": {},
   "outputs": [
    {
     "name": "stdout",
     "output_type": "stream",
     "text": [
      "number of unique patients in data available = 1904\n"
     ]
    }
   ],
   "source": [
    "uniquepatientnum = len(metabricdata['Patient_ID'])\n",
    "print(\"number of unique patients in data available =\", uniquepatientnum)"
   ]
  },
  {
   "cell_type": "markdown",
   "id": "be204a96-7c22-4d94-82bb-c650c1f1491e",
   "metadata": {},
   "source": [
    "2. How many patients were older than 75 when diagnosed with breast cancer?"
   ]
  },
  {
   "cell_type": "code",
   "execution_count": 8,
   "id": "2ff7fa86-027f-40a9-a6be-ed65728fe2d6",
   "metadata": {},
   "outputs": [
    {
     "name": "stdout",
     "output_type": "stream",
     "text": [
      "Index(['Patient_ID', 'Cohort', 'Age_at_diagnosis', 'Survival_time',\n",
      "       'Survival_status', 'Vital_status', 'Chemotherapy', 'Radiotherapy',\n",
      "       'Tumour_size', 'Tumour_stage', 'Neoplasm_histologic_grade',\n",
      "       'Lymph_nodes_examined_positive', 'Lymph_node_status', 'Cancer_type',\n",
      "       'ER_status', 'PR_status', 'HER2_status', 'HER2_status_measured_by_SNP6',\n",
      "       'PAM50', '3-gene_classifier', 'Nottingham_prognostic_index',\n",
      "       'Cellularity', 'Integrative_cluster', 'Mutation_count', 'ESR1', 'ERBB2',\n",
      "       'PGR', 'TP53', 'PIK3CA', 'GATA3', 'FOXA1', 'MLPH'],\n",
      "      dtype='object')\n"
     ]
    }
   ],
   "source": [
    "column_names = metabricdata.columns\n",
    "print(column_names)"
   ]
  },
  {
   "cell_type": "code",
   "execution_count": 9,
   "id": "1fe00d08-ed50-44b6-8330-ed7a9516cbaa",
   "metadata": {},
   "outputs": [
    {
     "name": "stdout",
     "output_type": "stream",
     "text": [
      "number of patients older than 75 when diagnosed with breast cancer = 284\n"
     ]
    }
   ],
   "source": [
    "filtered_metabricdata = metabricdata[metabricdata['Age_at_diagnosis'] >75]\n",
    "#display(filtered_metabricdata)\n",
    "oldnum = len(filtered_metabricdata['Age_at_diagnosis'])\n",
    "print(\"number of patients older than 75 when diagnosed with breast cancer =\", oldnum)"
   ]
  },
  {
   "cell_type": "markdown",
   "id": "4dca0f6f-aff2-4d6f-8290-d92069f7493e",
   "metadata": {},
   "source": [
    "3. What were the earliest and oldest ages of diagnosis?"
   ]
  },
  {
   "cell_type": "code",
   "execution_count": 10,
   "id": "0fdaacb3-b4fe-40b5-a7e0-92b2bede0831",
   "metadata": {},
   "outputs": [
    {
     "name": "stdout",
     "output_type": "stream",
     "text": [
      "earliest age of diagnosis =  21.93 oldest age of diagnosis =  96.29\n"
     ]
    }
   ],
   "source": [
    "#display(metabricdata)\n",
    "earlyage = min(metabricdata['Age_at_diagnosis'])\n",
    "oldage = max(metabricdata['Age_at_diagnosis'])\n",
    "print(\"earliest age of diagnosis = \", earlyage, \"oldest age of diagnosis = \", oldage)"
   ]
  },
  {
   "cell_type": "markdown",
   "id": "ee39c0bc-9416-46ab-a646-ff42afb74181",
   "metadata": {},
   "source": [
    "4. How many patients were treated with Chemotherapy and Radiotherapy?"
   ]
  },
  {
   "cell_type": "code",
   "execution_count": 11,
   "id": "f900595a-1ea6-468f-aea3-eb8c11e3a80f",
   "metadata": {},
   "outputs": [
    {
     "name": "stdout",
     "output_type": "stream",
     "text": [
      "Number of patients treated with chemotherapy and radiotherapy =  323\n"
     ]
    }
   ],
   "source": [
    "#display(metabricdata)\n",
    "patientcount = len(metabricdata[(metabricdata['Chemotherapy'] == \"YES\")& \n",
    "                                (metabricdata[\"Radiotherapy\"] == \"YES\")])\n",
    "print(\"Number of patients treated with chemotherapy and radiotherapy = \",\n",
    "      patientcount)"
   ]
  },
  {
   "cell_type": "markdown",
   "id": "d22e1e9b-9ee4-49f1-90ee-47a412a2473e",
   "metadata": {},
   "source": [
    "5. How many patients had less than three mutations in the genes investigated?"
   ]
  },
  {
   "cell_type": "code",
   "execution_count": 16,
   "id": "f8ce8109-1356-4bd1-80af-1e9f48ec92ed",
   "metadata": {},
   "outputs": [
    {
     "name": "stdout",
     "output_type": "stream",
     "text": [
      "Number of patients with less than three mutations in the genes investigated = 300\n"
     ]
    }
   ],
   "source": [
    "#display(metabricdata)\n",
    "mutationcount = len(metabricdata[(metabricdata[\"Mutation_count\"]<3)])\n",
    "\n",
    "print(\"Number of patients with less than three mutations in the genes investigated =\", mutationcount)"
   ]
  },
  {
   "cell_type": "markdown",
   "id": "a04603a6-926a-4a03-b7e0-9fe3ef00c549",
   "metadata": {},
   "source": [
    "6. Below there is a list of 5 protein sequences, specified in the single amino acid code where one letter corresponds to one amino acid. Write a function that finds the most abundant amino acid in a given protein sequence, but prints a warning message if the protein sequence is shorter than 10 amino acids. Run your function on each of the proteins in the list."
   ]
  },
  {
   "cell_type": "code",
   "execution_count": 1,
   "id": "1ea720cd-67a1-4a23-9681-7fd12e9c8c72",
   "metadata": {},
   "outputs": [
    {
     "name": "stdout",
     "output_type": "stream",
     "text": [
      "Amino acid counts for 'MEAGPSGAAAGAYLPPLQQ': [('A', 5), ('G', 3), ('P', 3), ('L', 2), ('Q', 2), ('M', 1), ('E', 1), ('S', 1), ('Y', 1)]\n",
      "Amino acid counts for 'VFQAPRRPGIGTVGKPIKLLANYFEVDIPK': [('P', 4), ('V', 3), ('G', 3), ('I', 3), ('K', 3), ('F', 2), ('A', 2), ('R', 2), ('L', 2), ('Q', 1), ('T', 1), ('N', 1), ('Y', 1), ('E', 1), ('D', 1)]\n",
      "Warning: Protein sequence 'IDVYHY' is shorter than 10 amino acids long.\n",
      "Amino acid counts for 'EVDIKPDKCPRRVNREVV': [('V', 4), ('R', 3), ('E', 2), ('D', 2), ('K', 2), ('P', 2), ('I', 1), ('C', 1), ('N', 1)]\n",
      "Amino acid counts for 'EYMVQHFKPQIFGDRKPVYDGKKNIYTVTALPIGNER': [('K', 4), ('Y', 3), ('V', 3), ('P', 3), ('I', 3), ('G', 3), ('E', 2), ('Q', 2), ('F', 2), ('D', 2), ('R', 2), ('N', 2), ('T', 2), ('M', 1), ('H', 1), ('A', 1), ('L', 1)]\n",
      "\n",
      "Overall most common amino acids across all sequences:\n",
      "[('P', 12), ('V', 10), ('G', 9), ('K', 9), ('A', 8), ('R', 7), ('I', 7), ('E', 6), ('Y', 5), ('L', 5), ('Q', 5), ('D', 5), ('F', 4), ('N', 4), ('T', 3), ('M', 2), ('S', 1), ('C', 1), ('H', 1)]\n"
     ]
    }
   ],
   "source": [
    "from collections import Counter\n",
    "\n",
    "proteins = [\n",
    "    \"MEAGPSGAAAGAYLPPLQQ\",\n",
    "    \"VFQAPRRPGIGTVGKPIKLLANYFEVDIPK\",\n",
    "    \"IDVYHY\",\n",
    "    \"EVDIKPDKCPRRVNREVV\",\n",
    "    \"EYMVQHFKPQIFGDRKPVYDGKKNIYTVTALPIGNER\"\n",
    "]\n",
    "\n",
    "def abundantAA(proteins):\n",
    "    overall_counter = Counter()  # To track abundance across all sequences\n",
    "\n",
    "    for protein in proteins:\n",
    "        if len(protein) < 10:\n",
    "            print(f\"Warning: Protein sequence '{protein}' is shorter than 10 amino acids long.\")\n",
    "            continue  # Skip processing for short sequences\n",
    "\n",
    "        # Count occurrences of amino acids in the current sequence\n",
    "        sequence_counter = Counter(protein)\n",
    "        print(f\"Amino acid counts for '{protein}': {sequence_counter.most_common()}\")\n",
    "\n",
    "        # Update the overall counter\n",
    "        overall_counter.update(sequence_counter)\n",
    "\n",
    "    # Print the overall most common amino acids\n",
    "    print(\"\\nOverall most common amino acids across all sequences:\")\n",
    "    print(overall_counter.most_common())\n",
    "\n",
    "abundantAA(proteins)"
   ]
  },
  {
   "cell_type": "markdown",
   "id": "31bb7e2d-e6ac-4166-bee2-b20947701eb4",
   "metadata": {},
   "source": [
    "7. Find the bug"
   ]
  },
  {
   "cell_type": "code",
   "execution_count": null,
   "id": "302b59ce-88f0-4911-9dea-58899738ba04",
   "metadata": {},
   "outputs": [],
   "source": [
    "# bugged code\n",
    "# capital_cities = {\n",
    "#     \"Sweden\": \"Stockholm\",\n",
    "#     \"UK\": \"London\",\n",
    "#     \"USA\": \"Washington DC\"\n",
    "# }\n",
    "\n",
    "# def find_capital_city(verbose=True, country):\n",
    "#     if country in capital_cities:\n",
    "#         capital_city = capital_cities[country]\n",
    "#         if verbose:\n",
    "#             print(\"Capital city located\")\n",
    "#     else:\n",
    "#         capital_city = \"CAPITAL CITY NOT FOUND\"\n",
    "#     return(capital_city)\n",
    "\n",
    "# countries = [\"USA\", \"UK\", \"Sweden\", \"Belgium\"]\n",
    "# for i in countries:\n",
    "#     print(find_capital_city(i))\n",
    "\n",
    "capital_cities = {\n",
    "    \"Sweden\": \"Stockholm\",\n",
    "    \"UK\": \"London\",\n",
    "    \"USA\": \"Washington DC\"\n",
    "}\n",
    "\n",
    "def find_capital_city(country, verbose=True):\n",
    "    capital_city = capital_cities[country]\n",
    "    if country in capital_cities:\n",
    "        if verbose:\n",
    "            print(\"Capital city located\")\n",
    "    else:\n",
    "        capital_city = \"CAPITAL CITY NOT FOUND\"\n",
    "    return(capital_city)\n",
    "\n",
    "countries = [\"USA\", \"UK\", \"Sweden\", \"Belgium\"]\n",
    "for i in countries:\n",
    "    print(find_capital_city(i))"
   ]
  },
  {
   "cell_type": "markdown",
   "id": "00091822-d210-4cfe-83fa-fe8807018e7d",
   "metadata": {},
   "source": [
    "8. In the data folder, you will find a file \"imagine_lyrics.txt\", which contains the lyrics to the song Imagine by John Lennon. Your task is to find out which word is used most frequently in the lyrics. There are many ways to approach this, but however you solve it, remember to break up your code into functions! Some words aren't very interesting e.g. \"the\", \"a\", \"and\" so we might want to exclude these from consideration when finding the most frequent word in a set of lyrics. Include an option to exclude a custom list of words, and test how the results change when excluding \"the\", \"a\" & \"and\"."
   ]
  },
  {
   "cell_type": "code",
   "execution_count": 18,
   "id": "237bee4f-61dc-4cae-b7e1-7f9898006b4d",
   "metadata": {},
   "outputs": [
    {
     "name": "stdout",
     "output_type": "stream",
     "text": [
      "\n",
      "5 most frequent words:\n",
      " the        8\n",
      "Imagine    6\n",
      "us         4\n",
      "I'm        4\n",
      "no         4\n",
      "dtype: int64\n"
     ]
    }
   ],
   "source": [
    "import pandas as pd\n",
    "\n",
    "def readtxtfile(txtfile):\n",
    "    file = open(txtfile, \"r\")\n",
    "    content = file.read()\n",
    "    words = content.split()\n",
    "    return(words)\n",
    "\n",
    "def commonword (txtfile):\n",
    "    lyrics2count = readtxtfile(txtfile)\n",
    "    # converting txt file to panda series and then counting occurences\n",
    "    lyricsps = pd.Series(lyrics2count)\n",
    "    count = lyricsps.value_counts()\n",
    "\n",
    "    k = 5 #extract most frequent words\n",
    "    top_k = count.head(k)\n",
    "    \n",
    "    return(print(f\"\\n{k} most frequent words:\\n\",top_k))\n",
    "\n",
    "commonword('/home/kdmb535/Data Science AZ Python Course/Data/imagine_lyrics.txt')"
   ]
  },
  {
   "cell_type": "code",
   "execution_count": null,
   "id": "22d85e58-4b87-418a-af72-0a2864092ea1",
   "metadata": {},
   "outputs": [],
   "source": []
  },
  {
   "cell_type": "code",
   "execution_count": null,
   "id": "558246a4-7c4f-41ae-a42d-064124de0226",
   "metadata": {},
   "outputs": [],
   "source": []
  },
  {
   "cell_type": "code",
   "execution_count": null,
   "id": "b24bf5c8-70f1-4886-a34e-b71b359cb262",
   "metadata": {},
   "outputs": [],
   "source": []
  }
 ],
 "metadata": {
  "kernelspec": {
   "display_name": "Python-3.9.5-foss-2021a",
   "language": "python",
   "name": "python-3.9.5-foss-2021a"
  },
  "language_info": {
   "codemirror_mode": {
    "name": "ipython",
    "version": 3
   },
   "file_extension": ".py",
   "mimetype": "text/x-python",
   "name": "python",
   "nbconvert_exporter": "python",
   "pygments_lexer": "ipython3",
   "version": "3.9.5"
  }
 },
 "nbformat": 4,
 "nbformat_minor": 5
}
